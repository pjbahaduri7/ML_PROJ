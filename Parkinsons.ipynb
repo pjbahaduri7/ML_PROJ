{
 "cells": [
  {
   "cell_type": "code",
   "execution_count": 6,
   "metadata": {},
   "outputs": [
    {
     "name": "stdout",
     "output_type": "stream",
     "text": [
      "48 147\n"
     ]
    }
   ],
   "source": [
    "import numpy as n\n",
    "import pandas as p\n",
    "import os, sys\n",
    "from sklearn.preprocessing import MinMaxScaler\n",
    "from xgboost import XGBClassifier\n",
    "from sklearn.model_selection import train_test_split\n",
    "from sklearn.metrics import accuracy_score\n",
    "#reading the data\n",
    "df = p.read_csv(r\"C:\\Users\\pjbahaduri7\\PycharmProjects\\parkinsons.data\")\n",
    "df.head()"
   ]
  },
  {
   "cell_type": "code",
   "execution_count": null,
   "metadata": {},
   "outputs": [],
   "source": [
    "#Gets the features and labels\n",
    "features = df.loc[:,df.columns!='status'].values[:,1:]\n",
    "labels = df.loc[:,'status'].values"
   ]
  },
  {
   "cell_type": "code",
   "execution_count": 9,
   "metadata": {},
   "outputs": [
    {
     "name": "stdout",
     "output_type": "stream",
     "text": [
      "48 147\n"
     ]
    }
   ],
   "source": [
    "#status column is given 0 and 1 values as their labels\n",
    "print(labels[labels==0].shape[0], labels[labels==1].shape[0])"
   ]
  },
  {
   "cell_type": "code",
   "execution_count": 10,
   "metadata": {},
   "outputs": [
    {
     "name": "stdout",
     "output_type": "stream",
     "text": [
      "94.87179487179486\n"
     ]
    }
   ],
   "source": [
    "#Scaling the features between -1 and 1\n",
    "sc = MinMaxScaler((-1,1))\n",
    "x = sc.fit_transform(features)\n",
    "y = labels\n",
    "#Split the dataset\n",
    "x_train,x_test,y_train,y_test=train_test_split(x, y, test_size=0.2, random_state=7)\n",
    "#Train the model\n",
    "model = XGBClassifier()\n",
    "model.fit(x_train,y_train)\n",
    "XGBClassifier(base_score=0.5, booster='gbtree', colsample_bylevel=1, \n",
    "             colsample_bynode=1, colsample_bytree=1, gamma=0, learning_rate=0.1, \n",
    "             max_delta_step=0, max_depth=3, min_child_weight=1, missing=None, n_estimators=100, \n",
    "             n_jobs=1, nthread=None, objective='binary:logistic', random_state=0, \n",
    "             reg_alpha=0, reg_lambda=1, scale_pos_weight=1, seed=None, silent=None, \n",
    "             subsample=1, verbrosity=1)\n",
    "#calculate the accuracy\n",
    "y_pred = model.predict(x_test)\n",
    "print(accuracy_score(y_test, y_pred)*100)"
   ]
  },
  {
   "cell_type": "code",
   "execution_count": null,
   "metadata": {},
   "outputs": [],
   "source": []
  }
 ],
 "metadata": {
  "kernelspec": {
   "display_name": "Python 3",
   "language": "python",
   "name": "python3"
  },
  "language_info": {
   "codemirror_mode": {
    "name": "ipython",
    "version": 3
   },
   "file_extension": ".py",
   "mimetype": "text/x-python",
   "name": "python",
   "nbconvert_exporter": "python",
   "pygments_lexer": "ipython3",
   "version": "3.8.1"
  }
 },
 "nbformat": 4,
 "nbformat_minor": 4
}
